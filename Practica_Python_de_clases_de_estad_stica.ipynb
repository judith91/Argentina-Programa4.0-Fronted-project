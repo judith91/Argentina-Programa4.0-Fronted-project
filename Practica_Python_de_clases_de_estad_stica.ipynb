{
  "nbformat": 4,
  "nbformat_minor": 0,
  "metadata": {
    "colab": {
      "provenance": [],
      "authorship_tag": "ABX9TyPEft7+DfzrOdm7GN+dkn2Y",
      "include_colab_link": true
    },
    "kernelspec": {
      "name": "python3",
      "display_name": "Python 3"
    },
    "language_info": {
      "name": "python"
    }
  },
  "cells": [
    {
      "cell_type": "markdown",
      "metadata": {
        "id": "view-in-github",
        "colab_type": "text"
      },
      "source": [
        "<a href=\"https://colab.research.google.com/github/judith91/Argentina-Programa4.0-Fronted-project/blob/main/Practica_Python_de_clases_de_estad_stica.ipynb\" target=\"_parent\"><img src=\"https://colab.research.google.com/assets/colab-badge.svg\" alt=\"Open In Colab\"/></a>"
      ]
    },
    {
      "cell_type": "code",
      "source": [
        "!git clone https://github.com/judith91/Practica-Python-de-clases-de-estad-stica.git\n",
        "\n"
      ],
      "metadata": {
        "colab": {
          "base_uri": "https://localhost:8080/"
        },
        "id": "oJ3oOU3pX90U",
        "outputId": "8a574736-9b07-4bcb-fec3-1eac7f857737"
      },
      "execution_count": null,
      "outputs": [
        {
          "output_type": "stream",
          "name": "stdout",
          "text": [
            "Cloning into 'Practica-Python-de-clases-de-estad-stica'...\n",
            "warning: You appear to have cloned an empty repository.\n"
          ]
        }
      ]
    },
    {
      "cell_type": "markdown",
      "source": [],
      "metadata": {
        "id": "9K8KDiSJYcNP"
      }
    },
    {
      "cell_type": "code",
      "source": [
        "import random\n",
        "\n",
        "\n",
        "def cumple_coinciden(n_personas=42, dias=365, n_sim=100_000):\n",
        "    coincidencias = 0\n",
        "    for _ in range(n_sim):\n",
        "        # Generamos cumpleaños aleatorios\n",
        "        cumple = [random.randint(1, dias) for _ in range(n_personas)]\n",
        "        # Si hay repetidos, al menos dos coinciden\n",
        "        if len(set(cumple)) < n_personas:\n",
        "            coincidencias += 1\n",
        "    return coincidencias / n_sim\n",
        "\n",
        "# Ejecutamos la simulación\n",
        "prob_estimada = cumple_coinciden()\n",
        "print(\"Probabilidad estimada de coincidencia:\", prob_estimada)"
      ],
      "metadata": {
        "id": "lOK4EycMYbBw"
      },
      "execution_count": null,
      "outputs": []
    }
  ]
}