{
  "nbformat": 4,
  "nbformat_minor": 0,
  "metadata": {
    "colab": {
      "provenance": [],
      "authorship_tag": "ABX9TyPghlTJee7VQT9zbYAS5U7t",
      "include_colab_link": true
    },
    "kernelspec": {
      "name": "python3",
      "display_name": "Python 3"
    },
    "language_info": {
      "name": "python"
    }
  },
  "cells": [
    {
      "cell_type": "markdown",
      "metadata": {
        "id": "view-in-github",
        "colab_type": "text"
      },
      "source": [
        "<a href=\"https://colab.research.google.com/github/judith91/Argentina-Programa4.0-Fronted-project/blob/Practica1/Practica_Python_de_clases_de_estad_stica.ipynb\" target=\"_parent\"><img src=\"https://colab.research.google.com/assets/colab-badge.svg\" alt=\"Open In Colab\"/></a>"
      ]
    },
    {
      "cell_type": "code",
      "source": [
        "!git clone https://github.com/judith91/Practica-Python-de-clases-de-estad-stica.git\n",
        "\n"
      ],
      "metadata": {
        "colab": {
          "base_uri": "https://localhost:8080/"
        },
        "id": "oJ3oOU3pX90U",
        "outputId": "8a574736-9b07-4bcb-fec3-1eac7f857737"
      },
      "execution_count": null,
      "outputs": [
        {
          "output_type": "stream",
          "name": "stdout",
          "text": [
            "Cloning into 'Practica-Python-de-clases-de-estad-stica'...\n",
            "warning: You appear to have cloned an empty repository.\n"
          ]
        }
      ]
    },
    {
      "cell_type": "markdown",
      "source": [],
      "metadata": {
        "id": "9K8KDiSJYcNP"
      }
    },
    {
      "cell_type": "code",
      "source": [
        "import random\n",
        "\n",
        "\n",
        "def cumple_coinciden(n_personas=42, dias=365, n_sim=100_000):\n",
        "    coincidencias = 0\n",
        "    for _ in range(n_sim):\n",
        "        # Generamos cumpleaños aleatorios\n",
        "        cumple = [random.randint(1, dias) for _ in range(n_personas)]\n",
        "        # Si hay repetidos, al menos dos coinciden\n",
        "        if len(set(cumple)) < n_personas:\n",
        "            coincidencias += 1\n",
        "    return coincidencias / n_sim\n",
        "\n",
        "# Ejecutamos la simulación\n",
        "prob_estimada = cumple_coinciden()\n",
        "print(\"Probabilidad estimada de coincidencia:\", prob_estimada)"
      ],
      "metadata": {
        "id": "lOK4EycMYbBw"
      },
      "execution_count": null,
      "outputs": []
    },
    {
      "cell_type": "code",
      "source": [
        "import numpy as np\n",
        "import matplotlib.pyplot as plt\n",
        "\n",
        "def prob_montecarlo_vectorizado(n_personas, dias=365, n_sim=20000, seed=42):\n",
        "    \"\"\"\n",
        "    Estima P(al menos dos comparten cumpleaños) por Monte Carlo.\n",
        "    n_personas: iterable de tamaños (p.ej. range(1,61))\n",
        "    \"\"\"\n",
        "    rng = np.random.default_rng(seed)\n",
        "    n_personas = np.asarray(list(n_personas))\n",
        "    probs = []\n",
        "\n",
        "    for n in n_personas:\n",
        "        # Matriz (n_sim x n): cada fila es una simulación con n personas\n",
        "        m = rng.integers(1, dias+1, size=(n_sim, n))\n",
        "        # Chequear si hay repetidos en cada fila (True si hay coincidencia)\n",
        "        hay_coinc = np.apply_along_axis(lambda fila: len(set(fila)) < n, 1, m)\n",
        "        probs.append(hay_coinc.mean())\n",
        "\n",
        "    return n_personas, np.array(probs)\n",
        "\n",
        "# ----- correr, graficar y mostrar n=42 -----\n",
        "personas, p_mc = prob_montecarlo_vectorizado(range(1, 61), n_sim=10000)\n",
        "plt.figure(figsize=(10,6))\n",
        "plt.plot(personas, p_mc, \"o--\", label=\"Monte Carlo (10k sims por n)\", alpha=0.8)\n",
        "plt.axhline(0.5, linestyle=\"--\", label=\"50%\")\n",
        "plt.xlabel(\"Número de personas\")\n",
        "plt.ylabel(\"Probabilidad de coincidencia (MC)\")\n",
        "plt.title(\"Problema del cumpleaños – Solo Monte Carlo\")\n",
        "plt.legend()\n",
        "plt.grid(True)\n",
        "plt.show()\n",
        "\n",
        "# Valor puntual para n=42\n",
        "n = 42\n",
        "_, p42 = prob_montecarlo_vectorizado([n], n_sim=100_000, seed=123)\n",
        "print(f\"Monte Carlo para n={n}: {float(p42):.5f}\")"
      ],
      "metadata": {
        "id": "xcr0h0pE9CJA"
      },
      "execution_count": null,
      "outputs": []
    }
  ]
}